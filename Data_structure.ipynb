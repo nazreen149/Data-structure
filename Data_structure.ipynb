{
  "nbformat": 4,
  "nbformat_minor": 0,
  "metadata": {
    "colab": {
      "provenance": []
    },
    "kernelspec": {
      "name": "python3",
      "display_name": "Python 3"
    },
    "language_info": {
      "name": "python"
    }
  },
  "cells": [
    {
      "cell_type": "markdown",
      "source": [
        "Data types and structure\n"
      ],
      "metadata": {
        "id": "ZR5kPUmO3EBN"
      }
    },
    {
      "cell_type": "markdown",
      "source": [
        "1.What are data structures, and why are they important?  \n",
        "->>Data structure is a way to organized and store a data in a computer so that bit can be used effeciently."
      ],
      "metadata": {
        "id": "QlK-UMUb3qEx"
      }
    },
    {
      "cell_type": "markdown",
      "source": [
        "2.Explain the difference between mutable and immutable data types with examples?\n",
        "\n",
        "->>Mutable:1)object can be chnanged after they are created\n",
        "           2)it can be modify like add,remove etc\n",
        "   immutable:1)object can not be changed after they are created\n",
        "             2)if you want to modify them,you have to create new object\n",
        "                 "
      ],
      "metadata": {
        "id": "uFTgXafXs9P3"
      }
    },
    {
      "cell_type": "markdown",
      "source": [
        "3.What are the main differences between lists and tuples in Python?  \n",
        "->> list: A list is a mutable it can be change the element ,add ,remove etc\n",
        "    tuple: A tuple is immutable and it can not be change ,it can take all type of elemets"
      ],
      "metadata": {
        "id": "WNBLF-KjzL3O"
      }
    },
    {
      "cell_type": "markdown",
      "source": [
        "4.Describe how dictionaries store data?  \n",
        "->> dictionaries store data as key- value pairs, where each key is uniqueand points to a value .The data is accessed using the key."
      ],
      "metadata": {
        "id": "MzbLvFc_15-u"
      }
    },
    {
      "cell_type": "markdown",
      "source": [
        "5 . Why might you use a set instead of a list in Python?\n",
        "->>Sets are used when you need to store unique elelments and performs fast membership tests.Sets automatically remove duplicates.\n"
      ],
      "metadata": {
        "id": "AU3RANyIPHlj"
      }
    },
    {
      "cell_type": "markdown",
      "source": [
        "6.What is a string in Python, and how is it different from a list?  \n",
        "->> A string is a sequence of characters and is immutable , whereas a list is a sequence of any data types and is mutable\n"
      ],
      "metadata": {
        "id": "bpK2IdHuPzOr"
      }
    },
    {
      "cell_type": "markdown",
      "source": [
        "7 . How do tuples ensure data integrity in Python?\n",
        "->> Since tuple are immutable,their content cannot be changed,ensuring the data inside remains consistent and uncharged.\n"
      ],
      "metadata": {
        "id": "LQFbi3R2QiS-"
      }
    },
    {
      "cell_type": "markdown",
      "source": [
        "8 . What is a hash table, and how does it relate to dictionaries in Python?\n",
        "--> A hash table is a data stucture that uses hash function to map keys to values.Python dictionaries are implemented as hash tables.\n"
      ],
      "metadata": {
        "id": "DO234CHeQ_7z"
      }
    },
    {
      "cell_type": "markdown",
      "source": [
        "9 . Can lists contain different data types in Python?\n",
        "\n",
        "--> yes ,lists can conatain items of mixed data types,like integers,strings,and even other list or objects."
      ],
      "metadata": {
        "id": "IIYvpZ7zRt7j"
      }
    },
    {
      "cell_type": "markdown",
      "source": [
        "10.Explain why strings are immutable in Python?\n",
        "\n",
        "--> String are immmutable so they can be shared among code,are memeory efficient,and prevent accidental changes."
      ],
      "metadata": {
        "id": "ceCLQ4B4SMfy"
      }
    },
    {
      "cell_type": "markdown",
      "source": [
        "11.What advantages do dictionaries offer over lists for certain tasks?\n",
        "\n",
        "--> Dictionaries provides fast access to data when you know the key,making them ideal for lookup tables, whereas list require searching through elements."
      ],
      "metadata": {
        "id": "f3CkiX9qSkvE"
      }
    },
    {
      "cell_type": "markdown",
      "source": [
        "12.Describe a scenario where using a tuple would be preferable over a list?\n",
        "\n",
        "->> when storing a fixed set of values that should not change ,such as coordinaes(x,y) or  items used as dictionary keys."
      ],
      "metadata": {
        "id": "7c6bdDceTLTG"
      }
    },
    {
      "cell_type": "markdown",
      "source": [
        "13.How do sets handle duplicate values in Python?\n",
        "\n",
        "->>Sets automatically remove duplicate  value and only store unique elements."
      ],
      "metadata": {
        "id": "a1Zx5wsxTtcd"
      }
    },
    {
      "cell_type": "markdown",
      "source": [
        "14 .How does the “in” keyword work differently for lists and dictionaries?\n",
        "\n",
        "-->In list ,in checks if a value exists among the list items.\n",
        "In dictionaries, in checks if a key exists."
      ],
      "metadata": {
        "id": "RfcwnCxxUB0p"
      }
    },
    {
      "cell_type": "markdown",
      "source": [
        "15 . Can you modify the elements of a tuple? Explain why or why not?\n",
        "\n",
        "->>No, tuples are immutable -once creates,their elemets cannot be changed."
      ],
      "metadata": {
        "id": "kV8at1HsUaki"
      }
    },
    {
      "cell_type": "markdown",
      "source": [
        "16  . What is a nested dictionary, and give an example of its use case?\n",
        "\n",
        "--> A nested dictionary inside another dictionary,,useful for with compllex data like student records."
      ],
      "metadata": {
        "id": "dRGB3mfOmr8P"
      }
    },
    {
      "cell_type": "markdown",
      "source": [
        "17 . Describe the time complexity of accessing elements in a dictionary?\n",
        "\n",
        "--> Accessing elements by key in a dictionary is 0(1) on average (very fast constant time)"
      ],
      "metadata": {
        "id": "CaylsMWwodnh"
      }
    },
    {
      "cell_type": "markdown",
      "source": [
        "18 .In what situations are lists preferred over dictionaries?\n",
        "\n",
        "->> when order matters and/or you only care about storing values without associated keys,especially for ordered sequences."
      ],
      "metadata": {
        "id": "WPBnOMymo96y"
      }
    },
    {
      "cell_type": "markdown",
      "source": [
        "19 . Why are dictionaries considered unordered, and how does that affect data retrieval?\n",
        "\n",
        "--> until python 3.7 dictionaries were unordered,meaning the order of items could change.Now order is preserved (from python 3.7+),but retrieval is still by key ,not bt position"
      ],
      "metadata": {
        "id": "G6fnn-WTppEd"
      }
    },
    {
      "cell_type": "markdown",
      "source": [
        "20 . Explain the difference between a list and a dictionary in terms of data retrieval?\n",
        "\n",
        "-->Lists:Retrieve items by index position(0,1,2)\n",
        "   Dictionary:Retrieve item by key."
      ],
      "metadata": {
        "id": "40mSV1SYqfA_"
      }
    },
    {
      "cell_type": "markdown",
      "source": [
        "***Pracrical question***\n"
      ],
      "metadata": {
        "id": "wodLp9vRrrZS"
      }
    },
    {
      "cell_type": "code",
      "source": [
        " # 1.Write a code to create a string with your name and print it?\n",
        "name=\"your name\"\n",
        "print(name)"
      ],
      "metadata": {
        "colab": {
          "base_uri": "https://localhost:8080/"
        },
        "id": "GFKKAq1br9LB",
        "outputId": "2378b809-8636-46e8-ba8b-1876df1da229"
      },
      "execution_count": null,
      "outputs": [
        {
          "output_type": "stream",
          "name": "stdout",
          "text": [
            "your name\n"
          ]
        }
      ]
    },
    {
      "cell_type": "code",
      "source": [
        "# 2.  Write a code to find the length of the string \"Hello World\"?\n",
        "s=\"Hello Worls\"\n",
        "print(len(s))"
      ],
      "metadata": {
        "colab": {
          "base_uri": "https://localhost:8080/"
        },
        "id": "l-T25knkux_T",
        "outputId": "a478f3f3-d992-4657-e120-016a34f8c8a6"
      },
      "execution_count": null,
      "outputs": [
        {
          "output_type": "stream",
          "name": "stdout",
          "text": [
            "11\n"
          ]
        }
      ]
    },
    {
      "cell_type": "code",
      "source": [
        "# 3.Write a code to slice the first 3 characters from the string \"Python Programming?\n",
        "s=\"Python Programming\"\n",
        "print(s[:3])"
      ],
      "metadata": {
        "colab": {
          "base_uri": "https://localhost:8080/"
        },
        "id": "XW8FM-HHvK7s",
        "outputId": "099320c9-5d5c-41a1-d9fe-d8af145af88f"
      },
      "execution_count": 2,
      "outputs": [
        {
          "output_type": "stream",
          "name": "stdout",
          "text": [
            "Pyt\n"
          ]
        }
      ]
    },
    {
      "cell_type": "code",
      "source": [
        "# 4. Write a code to convert the string \"hello\" to uppercase\n",
        "# Original string\n",
        "text = \"hello\"\n",
        "\n",
        "# Convert to uppercase\n",
        "uppercase_text = text.upper()\n",
        "\n",
        "# Print the result\n",
        "print(uppercase_text)\n"
      ],
      "metadata": {
        "id": "5fXuwWsBvm-c",
        "colab": {
          "base_uri": "https://localhost:8080/"
        },
        "outputId": "94f8df76-725f-4df5-d4bb-b8c9b7e0cb0c"
      },
      "execution_count": 3,
      "outputs": [
        {
          "output_type": "stream",
          "name": "stdout",
          "text": [
            "HELLO\n"
          ]
        }
      ]
    },
    {
      "cell_type": "code",
      "source": [
        "# 5.Write a code to replace the word \"apple\" with \"orange\" in the string \"I like apple\n",
        "# Original string\n",
        "text = \"I like apple\"\n",
        "\n",
        "# Replace \"apple\" with \"orange\"\n",
        "new_text = text.replace(\"apple\", \"orange\")\n",
        "\n",
        "# Print the result\n",
        "print(new_text)\n"
      ],
      "metadata": {
        "colab": {
          "base_uri": "https://localhost:8080/"
        },
        "id": "_q8-c3d1e7t-",
        "outputId": "69564cd0-3f70-4693-d422-4e22ae0a2586"
      },
      "execution_count": 4,
      "outputs": [
        {
          "output_type": "stream",
          "name": "stdout",
          "text": [
            "I like orange\n"
          ]
        }
      ]
    },
    {
      "cell_type": "code",
      "source": [
        "# 6. Write a code to create a list with numbers 1 to 5 and print it\n",
        "# Create a list using range\n",
        "numbers = list(range(1, 6))\n",
        "\n",
        "# Print the list\n",
        "print(numbers)\n"
      ],
      "metadata": {
        "colab": {
          "base_uri": "https://localhost:8080/"
        },
        "id": "iV1wM0K7fIvU",
        "outputId": "10f8eca3-793d-4a90-ad61-aedf87a1afd2"
      },
      "execution_count": 5,
      "outputs": [
        {
          "output_type": "stream",
          "name": "stdout",
          "text": [
            "[1, 2, 3, 4, 5]\n"
          ]
        }
      ]
    },
    {
      "cell_type": "code",
      "source": [
        "# 7. Write a code to append the number 10 to the list [1, 2, 3, 4]\n",
        "# Original list\n",
        "numbers = [1, 2, 3, 4]\n",
        "\n",
        "# Append the number 10 to the list\n",
        "numbers.append(10)\n",
        "\n",
        "# Print the updated list\n",
        "print(numbers)\n"
      ],
      "metadata": {
        "colab": {
          "base_uri": "https://localhost:8080/"
        },
        "id": "u8Ia0fCifaGD",
        "outputId": "4767604e-6fe4-469e-e8f9-da8342dca3e9"
      },
      "execution_count": 6,
      "outputs": [
        {
          "output_type": "stream",
          "name": "stdout",
          "text": [
            "[1, 2, 3, 4, 10]\n"
          ]
        }
      ]
    },
    {
      "cell_type": "code",
      "source": [
        "# 8.Write a code to remove the number 3 from the list [1, 2, 3, 4, 5]\n",
        "# Original list\n",
        "numbers = [1, 2, 3, 4, 5]\n",
        "\n",
        "# Insert number 6 at the end of the list\n",
        "numbers.append(6)\n",
        "# remove number 3 in the list number\n",
        "numbers.remove(3)\n",
        "\n",
        "# Print the updated list\n",
        "print(numbers)\n"
      ],
      "metadata": {
        "colab": {
          "base_uri": "https://localhost:8080/"
        },
        "id": "3KS6v8EDf0lK",
        "outputId": "076512ab-65ce-40a8-94eb-cf7465ec91d2"
      },
      "execution_count": 8,
      "outputs": [
        {
          "output_type": "stream",
          "name": "stdout",
          "text": [
            "[1, 2, 4, 5, 6]\n"
          ]
        }
      ]
    },
    {
      "cell_type": "code",
      "source": [
        "# 9.Write a code to access the second element in the list ['a', 'b', 'c', 'd']\n",
        "# Original list\n",
        "letters = ['a', 'b', 'c', 'd']\n",
        "\n",
        "# Access the second element (index 1, since indexing starts from 0)\n",
        "second_element = letters[1]\n",
        "\n",
        "# Print the second element\n",
        "print(second_element)\n"
      ],
      "metadata": {
        "colab": {
          "base_uri": "https://localhost:8080/"
        },
        "id": "n2d7bLQag1zk",
        "outputId": "713a4016-f41f-4a54-c184-edd03e089b99"
      },
      "execution_count": 9,
      "outputs": [
        {
          "output_type": "stream",
          "name": "stdout",
          "text": [
            "b\n"
          ]
        }
      ]
    },
    {
      "cell_type": "code",
      "source": [
        "# 10. Write a code to reverse the list [10, 20, 30, 40, 50]\n",
        "# Original list\n",
        "numbers = [10, 20, 30, 40, 50]\n",
        "\n",
        "# Reverse the list\n",
        "numbers.reverse()\n",
        "\n",
        "# Print the reversed list\n",
        "print(numbers)\n"
      ],
      "metadata": {
        "colab": {
          "base_uri": "https://localhost:8080/"
        },
        "id": "LqS6ZIEwhO6v",
        "outputId": "b84d304c-811f-4f0d-e48c-9bb3ac3f1bc8"
      },
      "execution_count": 10,
      "outputs": [
        {
          "output_type": "stream",
          "name": "stdout",
          "text": [
            "[50, 40, 30, 20, 10]\n"
          ]
        }
      ]
    },
    {
      "cell_type": "code",
      "source": [
        "# 11. . Write a code to create a tuple with the elements 100, 200, 300 and print it\n",
        "# Create a tuple with the given elements\n",
        "numbers = (100, 200, 300)\n",
        "\n",
        "# Print the tuple\n",
        "print(numbers)\n"
      ],
      "metadata": {
        "colab": {
          "base_uri": "https://localhost:8080/"
        },
        "id": "K180I9LhhuW2",
        "outputId": "b1000cf6-e7e5-4b42-c8a8-270209a18056"
      },
      "execution_count": 11,
      "outputs": [
        {
          "output_type": "stream",
          "name": "stdout",
          "text": [
            "(100, 200, 300)\n"
          ]
        }
      ]
    },
    {
      "cell_type": "code",
      "source": [
        "# 12. . Write a code to access the second-to-last element of the tuple ('red', 'green', 'blue', 'yellow').\n",
        "# Original tuple\n",
        "colors = ('red', 'green', 'blue', 'yellow')\n",
        "\n",
        "# Access the second-to-last element (index -2)\n",
        "second_last = colors[-2]\n",
        "\n",
        "# Print the second-to-last element\n",
        "print(second_last)\n"
      ],
      "metadata": {
        "colab": {
          "base_uri": "https://localhost:8080/"
        },
        "id": "pO6V21xoiecT",
        "outputId": "619ac53e-1ad7-4e85-d8eb-2adc933314c1"
      },
      "execution_count": 12,
      "outputs": [
        {
          "output_type": "stream",
          "name": "stdout",
          "text": [
            "blue\n"
          ]
        }
      ]
    },
    {
      "cell_type": "code",
      "source": [
        "# 13. Write a code to find the minimum number in the tuple (10, 20, 5, 15).\n",
        "# Define the tuple\n",
        "numbers = (10, 20, 5, 15)\n",
        "\n",
        "# Find the minimum number\n",
        "minimum_number = min(numbers)\n",
        "\n",
        "# Print the result\n",
        "print(minimum_number)\n"
      ],
      "metadata": {
        "colab": {
          "base_uri": "https://localhost:8080/"
        },
        "id": "2J8CD47sixHa",
        "outputId": "2806f710-4044-4e57-b300-03a64218b26a"
      },
      "execution_count": 13,
      "outputs": [
        {
          "output_type": "stream",
          "name": "stdout",
          "text": [
            "5\n"
          ]
        }
      ]
    },
    {
      "cell_type": "code",
      "source": [
        "# 14.Write a code to find the index of the element \"cat\" in the tuple ('dog', 'cat', 'rabbit').\n",
        "# Original tuple\n",
        "animals = ('dog', 'cat', 'rabbit')\n",
        "\n",
        "# Find the index of \"cat\"\n",
        "index_of_cat = animals.index('cat')\n",
        "\n",
        "# Print the index\n",
        "print(index_of_cat)\n"
      ],
      "metadata": {
        "colab": {
          "base_uri": "https://localhost:8080/"
        },
        "id": "1sxSQJhFjJFR",
        "outputId": "3e9936d6-d267-4c7e-d06f-04e0f54bd95b"
      },
      "execution_count": 14,
      "outputs": [
        {
          "output_type": "stream",
          "name": "stdout",
          "text": [
            "1\n"
          ]
        }
      ]
    },
    {
      "cell_type": "code",
      "source": [
        "# 15. Write a code to create a tuple containing three different fruits and check if \"kiwi\" is in it.\n",
        "# Create a tuple with three different fruits\n",
        "fruits = (\"apple\", \"banana\", \"mango\")\n",
        "\n",
        "# Check if \"kiwi\" is in the tuple\n",
        "if \"kiwi\" in fruits:\n",
        "    print(\"Kiwi is in the tuple.\")\n",
        "else:\n",
        "    print(\"Kiwi is not in the tuple.\")\n"
      ],
      "metadata": {
        "colab": {
          "base_uri": "https://localhost:8080/"
        },
        "id": "8U6NpW8yjlTs",
        "outputId": "52c59e0e-828e-4bf9-cacb-c3adca9053e1"
      },
      "execution_count": 15,
      "outputs": [
        {
          "output_type": "stream",
          "name": "stdout",
          "text": [
            "Kiwi is not in the tuple.\n"
          ]
        }
      ]
    },
    {
      "cell_type": "code",
      "source": [
        "# 16.. Write a code to create a set with the elements 'a', 'b', 'c' and print it\n",
        "# Create a set with the given elements\n",
        "my_set = {'a', 'b', 'c'}\n",
        "\n",
        "# Print the set\n",
        "print(my_set)\n"
      ],
      "metadata": {
        "colab": {
          "base_uri": "https://localhost:8080/"
        },
        "id": "mFEci8k2kJgK",
        "outputId": "e750685c-04d5-4de4-a7da-6b799706ebb1"
      },
      "execution_count": 16,
      "outputs": [
        {
          "output_type": "stream",
          "name": "stdout",
          "text": [
            "{'a', 'c', 'b'}\n"
          ]
        }
      ]
    },
    {
      "cell_type": "code",
      "source": [
        "# 17. Write a code to clear all elements from the set {1, 2, 3, 4, 5}\n",
        "# Original set\n",
        "my_set = {1, 2, 3, 4, 5}\n",
        "\n",
        "# Clear all elements from the set\n",
        "my_set.clear()\n",
        "\n",
        "# Print the set after clearing\n",
        "print(my_set)\n"
      ],
      "metadata": {
        "colab": {
          "base_uri": "https://localhost:8080/"
        },
        "id": "g20e8oiDkJKO",
        "outputId": "b1779d2b-7107-493c-9795-ba4e25c0b0e3"
      },
      "execution_count": 17,
      "outputs": [
        {
          "output_type": "stream",
          "name": "stdout",
          "text": [
            "set()\n"
          ]
        }
      ]
    },
    {
      "cell_type": "code",
      "source": [
        "# 18.Write a code to remove the element 4 from the set {1, 2, 3, 4}.\n",
        "# Original set\n",
        "my_set = {1, 2, 3, 4}\n",
        "\n",
        "# Remove the element 4 from the set\n",
        "my_set.remove(4)\n",
        "\n",
        "# Print the updated set\n",
        "print(my_set)\n"
      ],
      "metadata": {
        "colab": {
          "base_uri": "https://localhost:8080/"
        },
        "id": "qLT59i1E81V9",
        "outputId": "82431ed3-f979-4e89-bd83-258c1522580e"
      },
      "execution_count": 18,
      "outputs": [
        {
          "output_type": "stream",
          "name": "stdout",
          "text": [
            "{1, 2, 3}\n"
          ]
        }
      ]
    },
    {
      "cell_type": "code",
      "source": [
        "# 19. Write a code to find the union of two sets {1, 2, 3} and {3, 4, 5}\n",
        "# Define the two sets\n",
        "set1 = {1, 2, 3}\n",
        "set2 = {3, 4, 5}\n",
        "\n",
        "# Find the union using the union() method\n",
        "union_set = set1.union(set2)\n",
        "\n",
        "# Print the union\n",
        "print(union_set)\n"
      ],
      "metadata": {
        "colab": {
          "base_uri": "https://localhost:8080/"
        },
        "id": "SEF3zlZM9Oxz",
        "outputId": "2168127b-10fd-40f1-ae0b-9b246c8b8125"
      },
      "execution_count": 19,
      "outputs": [
        {
          "output_type": "stream",
          "name": "stdout",
          "text": [
            "{1, 2, 3, 4, 5}\n"
          ]
        }
      ]
    },
    {
      "cell_type": "code",
      "source": [
        "# 20.Write a code to find the intersection of two sets {1, 2, 3} and {2, 3, 4}\n",
        "# Define the two sets\n",
        "set1 = {1, 2, 3}\n",
        "set2 = {2, 3, 4}\n",
        "\n",
        "# Find the intersection using intersection() method\n",
        "intersection_set = set1.intersection(set2)\n",
        "\n",
        "# Print the intersection\n",
        "print(intersection_set)\n"
      ],
      "metadata": {
        "colab": {
          "base_uri": "https://localhost:8080/"
        },
        "id": "1oOnnkQX9nAu",
        "outputId": "e10ba989-3d24-4519-a762-ce263c53b057"
      },
      "execution_count": 20,
      "outputs": [
        {
          "output_type": "stream",
          "name": "stdout",
          "text": [
            "{2, 3}\n"
          ]
        }
      ]
    },
    {
      "cell_type": "code",
      "source": [
        "# 21.Write a code to create a dictionary with the keys \"name\", \"age\", and \"city\", and print it\n",
        "# Create a dictionary with the given keys\n",
        "person = {\n",
        "    \"name\": \"Alice\",\n",
        "    \"age\": 25,\n",
        "    \"city\": \"New York\"\n",
        "}\n",
        "\n",
        "# Print the dictionary\n",
        "print(person)\n"
      ],
      "metadata": {
        "colab": {
          "base_uri": "https://localhost:8080/"
        },
        "id": "8Yqn3_0A9xfE",
        "outputId": "47a34973-a0e4-46c3-d7be-98e84c61c057"
      },
      "execution_count": 21,
      "outputs": [
        {
          "output_type": "stream",
          "name": "stdout",
          "text": [
            "{'name': 'Alice', 'age': 25, 'city': 'New York'}\n"
          ]
        }
      ]
    },
    {
      "cell_type": "code",
      "source": [
        "# 22.Write a code to add a new key-value pair \"country\": \"USA\" to the dictionary {'name': 'John', 'age': 25}\n",
        "# Original dictionary\n",
        "person = {'name': 'John', 'age': 25}\n",
        "\n",
        "# Add the new key-value pair\n",
        "person['country'] = 'USA'\n",
        "\n",
        "# Print the updated dictionary\n",
        "print(person)\n"
      ],
      "metadata": {
        "colab": {
          "base_uri": "https://localhost:8080/"
        },
        "id": "hC8XyS_J-AWD",
        "outputId": "6c91f169-be2f-4330-ca86-718d66b475ef"
      },
      "execution_count": 22,
      "outputs": [
        {
          "output_type": "stream",
          "name": "stdout",
          "text": [
            "{'name': 'John', 'age': 25, 'country': 'USA'}\n"
          ]
        }
      ]
    },
    {
      "cell_type": "code",
      "source": [
        "# 23. Write a code to access the value associated with the key \"name\" in the dictionary {'name': 'Alice', 'age': 30}\n",
        "# Original dictionary\n",
        "person = {'name': 'Alice', 'age': 30}\n",
        "\n",
        "# Access the value associated with the key \"name\"\n",
        "name_value = person['name']\n",
        "\n",
        "# Print the value\n",
        "print(name_value)\n"
      ],
      "metadata": {
        "colab": {
          "base_uri": "https://localhost:8080/"
        },
        "id": "Q6g_rtP7-Qrb",
        "outputId": "90959d2a-65a2-4a5d-98ff-7a602f7dedcf"
      },
      "execution_count": 23,
      "outputs": [
        {
          "output_type": "stream",
          "name": "stdout",
          "text": [
            "Alice\n"
          ]
        }
      ]
    },
    {
      "cell_type": "code",
      "source": [
        "# 24.Write a code to remove the key \"age\" from the dictionary {'name': 'Bob', 'age': 22, 'city': 'New York'}\n",
        "# Original dictionary\n",
        "person = {'name': 'Bob', 'age': 22, 'city': 'New York'}\n",
        "\n",
        "# Remove the key \"age\" from the dictionary\n",
        "del person['age']\n",
        "\n",
        "# Print the updated dictionary\n",
        "print(person)\n"
      ],
      "metadata": {
        "colab": {
          "base_uri": "https://localhost:8080/"
        },
        "id": "3rniPDiP-sq0",
        "outputId": "3cc162b4-1133-40c5-ec92-2ab1b2164314"
      },
      "execution_count": 24,
      "outputs": [
        {
          "output_type": "stream",
          "name": "stdout",
          "text": [
            "{'name': 'Bob', 'city': 'New York'}\n"
          ]
        }
      ]
    },
    {
      "cell_type": "code",
      "source": [
        "# 25. Write a code to check if the key \"city\" exists in the dictionary {'name': 'Alice', 'city': 'Paris'}.\n",
        "# Original dictionary\n",
        "person = {'name': 'Alice', 'city': 'Paris'}\n",
        "\n",
        "# Check if the key \"city\" exists\n",
        "if \"city\" in person:\n",
        "    print(\"Key 'city' exists in the dictionary.\")\n",
        "else:\n",
        "    print(\"Key 'city' does not exist in the dictionary.\")\n"
      ],
      "metadata": {
        "colab": {
          "base_uri": "https://localhost:8080/"
        },
        "id": "hswm1nam-zRm",
        "outputId": "672e7a31-2e2b-4f68-ada8-0ff83f29f919"
      },
      "execution_count": 25,
      "outputs": [
        {
          "output_type": "stream",
          "name": "stdout",
          "text": [
            "Key 'city' exists in the dictionary.\n"
          ]
        }
      ]
    },
    {
      "cell_type": "code",
      "source": [
        "# 26.Write a code to create a list, a tuple, and a dictionary, and print them all.\n",
        "# Create a list\n",
        "my_list = [1, 2, 3, 4, 5]\n",
        "\n",
        "# Create a tuple\n",
        "my_tuple = ('apple', 'banana', 'cherry')\n",
        "\n",
        "# Create a dictionary\n",
        "my_dict = {\n",
        "    'name': 'Alice',\n",
        "    'age': 25,\n",
        "    'city': 'New York'\n",
        "}\n",
        "\n",
        "# Print them all\n",
        "print(\"List:\", my_list)\n",
        "print(\"Tuple:\", my_tuple)\n",
        "print(\"Dictionary:\", my_dict)\n"
      ],
      "metadata": {
        "colab": {
          "base_uri": "https://localhost:8080/"
        },
        "id": "au2zsBMz-_iG",
        "outputId": "28aa06eb-8bba-433b-dea7-5a4fe23d8521"
      },
      "execution_count": 26,
      "outputs": [
        {
          "output_type": "stream",
          "name": "stdout",
          "text": [
            "List: [1, 2, 3, 4, 5]\n",
            "Tuple: ('apple', 'banana', 'cherry')\n",
            "Dictionary: {'name': 'Alice', 'age': 25, 'city': 'New York'}\n"
          ]
        }
      ]
    },
    {
      "cell_type": "code",
      "source": [
        "# 27. Write a code to create a list of 5 random numbers between 1 and 100, sort it in ascending order, and print the result(replaced)\n",
        "import random\n",
        "\n",
        "# Generate a list of 5 unique random numbers between 1 and 100\n",
        "random_numbers = random.sample(range(1, 101), 5)\n",
        "\n",
        "# Sort the list in ascending order\n",
        "random_numbers.sort()\n",
        "\n",
        "# Print the sorted list\n",
        "print(random_numbers)\n"
      ],
      "metadata": {
        "colab": {
          "base_uri": "https://localhost:8080/"
        },
        "id": "Jb111Uqf_SPk",
        "outputId": "9e88a6bc-7a6d-4f69-e657-0a8855107134"
      },
      "execution_count": 27,
      "outputs": [
        {
          "output_type": "stream",
          "name": "stdout",
          "text": [
            "[40, 78, 80, 87, 94]\n"
          ]
        }
      ]
    },
    {
      "cell_type": "code",
      "source": [
        "# 28. Write a code to create a list with strings and print the element at the third index\n",
        "# Create a list of strings\n",
        "my_list = [\"apple\", \"banana\", \"cherry\", \"date\", \"elderberry\"]\n",
        "\n",
        "# Print the element at the third index (index 3)\n",
        "print(my_list[3])\n"
      ],
      "metadata": {
        "colab": {
          "base_uri": "https://localhost:8080/"
        },
        "id": "r3LkLblN__PD",
        "outputId": "d1d70d9a-15ff-49d3-8c6e-d6084f8beca5"
      },
      "execution_count": 28,
      "outputs": [
        {
          "output_type": "stream",
          "name": "stdout",
          "text": [
            "date\n"
          ]
        }
      ]
    },
    {
      "cell_type": "code",
      "source": [
        "# 29.Write a code to combine two dictionaries into one and print the result\n",
        "# Define two dictionaries\n",
        "dict1 = {'a': 1, 'b': 2}\n",
        "dict2 = {'c': 3, 'd': 4}\n",
        "\n",
        "# Combine the dictionaries\n",
        "combined_dict = {**dict1, **dict2}\n",
        "\n",
        "# Print the result\n",
        "print(combined_dict)\n"
      ],
      "metadata": {
        "colab": {
          "base_uri": "https://localhost:8080/"
        },
        "id": "HFjFZn_bAQNF",
        "outputId": "7f5b914b-73e0-4586-c3f9-703518548e97"
      },
      "execution_count": 29,
      "outputs": [
        {
          "output_type": "stream",
          "name": "stdout",
          "text": [
            "{'a': 1, 'b': 2, 'c': 3, 'd': 4}\n"
          ]
        }
      ]
    },
    {
      "cell_type": "code",
      "source": [
        "# 30.Write a code to convert a list of strings into a set.\n",
        "# Create a list of strings\n",
        "string_list = [\"apple\", \"banana\", \"cherry\", \"apple\"]\n",
        "\n",
        "# Convert the list into a set\n",
        "string_set = set(string_list)\n",
        "\n",
        "# Print the set\n",
        "print(string_set)\n"
      ],
      "metadata": {
        "colab": {
          "base_uri": "https://localhost:8080/"
        },
        "id": "Wkcbu0x-AdRS",
        "outputId": "22047e1c-80fc-45ec-c4bc-6c6a0034654a"
      },
      "execution_count": 30,
      "outputs": [
        {
          "output_type": "stream",
          "name": "stdout",
          "text": [
            "{'apple', 'cherry', 'banana'}\n"
          ]
        }
      ]
    }
  ]
}